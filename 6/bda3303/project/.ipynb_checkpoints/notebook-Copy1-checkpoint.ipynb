{
 "cells": [
  {
   "cell_type": "code",
   "execution_count": 1,
   "metadata": {},
   "outputs": [],
   "source": [
    "import numpy as np\n",
    "import pandas as pd\n",
    "from sklearn.cluster import KMeans\n",
    "from sklearn.preprocessing import StandardScaler\n",
    "from sklearn.model_selection import train_test_split\n",
    "from sklearn.metrics import pairwise_distances_argmin\n",
    "import matplotlib\n",
    "\n",
    "import matplotlib.pyplot as plt\n",
    "%matplotlib inline"
   ]
  },
  {
   "cell_type": "code",
   "execution_count": 2,
   "metadata": {},
   "outputs": [
    {
     "name": "stdout",
     "output_type": "stream",
     "text": [
      "     GPA  Gender  breakfast  calories_chicken  calories_day  calories_scone  \\\n",
      "0  2.400       2          1               430           NaN           315.0   \n",
      "1  3.654       1          1               610           3.0           420.0   \n",
      "2  3.300       1          1               720           4.0           420.0   \n",
      "3  3.200       1          1               430           3.0           420.0   \n",
      "4  3.500       1          1               720           2.0           420.0   \n",
      "\n",
      "   coffee  comfort_food_reasons_coded  cook  comfort_food_reasons_coded.1  \\\n",
      "0       1                         9.0   2.0                             9   \n",
      "1       2                         1.0   3.0                             1   \n",
      "2       2                         1.0   1.0                             1   \n",
      "3       2                         2.0   2.0                             2   \n",
      "4       2                         1.0   1.0                             1   \n",
      "\n",
      "   ...  persian_food  self_perception_weight  soup  sports  thai_food  \\\n",
      "0  ...           5.0                     3.0   1.0     1.0          1   \n",
      "1  ...           4.0                     3.0   1.0     1.0          2   \n",
      "2  ...           5.0                     6.0   1.0     2.0          5   \n",
      "3  ...           5.0                     5.0   1.0     2.0          5   \n",
      "4  ...           2.0                     4.0   1.0     1.0          4   \n",
      "\n",
      "   tortilla_calories  turkey_calories  veggies_day  vitamins  waffle_calories  \n",
      "0             1165.0              345            5         1             1315  \n",
      "1              725.0              690            4         2              900  \n",
      "2             1165.0              500            5         1              900  \n",
      "3              725.0              690            3         1             1315  \n",
      "4              940.0              500            4         2              760  \n",
      "\n",
      "[5 rows x 48 columns]\n",
      "float64    21\n",
      "int64      27\n",
      "dtype: int64\n",
      "101\n",
      "0\n"
     ]
    }
   ],
   "source": [
    "# data cleaning\n",
    "df = pd.read_csv('./food_coded.csv', na_values=\"nan\")\n",
    "\n",
    "drop_cols = ['comfort_food', 'comfort_food_reasons',\n",
    "'diet_current', 'eating_changes', 'father_profession',\n",
    "'fav_cuisine', 'food_childhood','healthy_meal', 'ideal_diet',\n",
    "'meals_dinner_friend','mother_profession','type_sports','weight']\n",
    "\n",
    "df.drop(drop_cols, inplace=True, axis=1)\n",
    "print(df.head())\n",
    "print(df.get_dtype_counts())\n",
    "\n",
    "print(df.isnull().sum().sum())\n",
    "\n",
    "## fill na values\n",
    "for column in df:\n",
    "    median = df[column].median()\n",
    "    df[column].fillna(median, inplace=True)\n",
    "## end data cleaning\n",
    "print(df.isnull().sum().sum())"
   ]
  },
  {
   "cell_type": "code",
   "execution_count": 4,
   "metadata": {
    "scrolled": true
   },
   "outputs": [],
   "source": [
    "to_drop2 =['Id','GPA','calories_chicken', 'calories_scone', \n",
    "           'comfort_food_reasons_coded.1','self_perception_weight', \n",
    "          'tortilla_calories','turkey_calories','waffle_calories',\n",
    "          'ethnic_food', 'exercise', 'father_education',\n",
    "          'eating_changes_coded', 'eating_changes_coded1','employment', \n",
    "          'nutritional_check', 'fav_cuisine_coded','life_rewarding','grade_level',\n",
    "           'calories_day', 'pay_meal_out', 'tortilla_calories','turkey_calories',\n",
    "          ]\n",
    "\n",
    "to_drop3 =['comfort_food_reasons_coded', 'cuisine', 'mother_education'] \n",
    "\n",
    "\n",
    "\n",
    "\n",
    "df = pd.read_csv('./food_cleaned1.csv')\n",
    "\n",
    "bf_cereal = df[df['breakfast'] ==1]\n",
    "bf_dount = df[df['breakfast'] ==2]\n",
    "df.drop(to_drop2, inplace=True, axis=1)\n",
    "df.drop(to_drop3, inplace=True, axis=1)"
   ]
  },
  {
   "cell_type": "code",
   "execution_count": 60,
   "metadata": {},
   "outputs": [
    {
     "name": "stdout",
     "output_type": "stream",
     "text": [
      "   Gender  breakfast  coffee  cook  diet_current_coded  drink  eating_out  \\\n",
      "0       2          1       1     2                   1      1           3   \n",
      "1       1          1       2     3                   2      2           2   \n",
      "2       1          1       2     1                   3      1           2   \n",
      "3       1          1       2     2                   2      2           2   \n",
      "4       1          1       2     1                   2      2           2   \n",
      "\n",
      "   fav_food  fries  fruit_day  ...  italian_food  marital_status  \\\n",
      "0         1      2          5  ...             5               1   \n",
      "1         1      1          4  ...             4               2   \n",
      "2         3      1          5  ...             5               2   \n",
      "3         1      2          4  ...             5               2   \n",
      "4         3      1          4  ...             5               1   \n",
      "\n",
      "   on_off_campus  parents_cook  persian_food  soup  sports  thai_food  \\\n",
      "0              1             1             5     1       1          1   \n",
      "1              1             1             4     1       1          2   \n",
      "2              2             1             5     1       2          5   \n",
      "3              1             1             5     1       2          5   \n",
      "4              1             1             2     1       1          4   \n",
      "\n",
      "   veggies_day  vitamins  \n",
      "0            5         1  \n",
      "1            4         2  \n",
      "2            5         1  \n",
      "3            3         1  \n",
      "4            4         2  \n",
      "\n",
      "[5 rows x 25 columns]\n"
     ]
    }
   ],
   "source": [
    "print(df.head())"
   ]
  },
  {
   "cell_type": "code",
   "execution_count": 61,
   "metadata": {},
   "outputs": [
    {
     "name": "stdout",
     "output_type": "stream",
     "text": [
      "1    2047\n",
      "5    2042\n",
      "2    1995\n",
      "3    1981\n",
      "4    1934\n",
      "Name: cook, dtype: int64\n"
     ]
    }
   ],
   "source": [
    "cook = df['cook'].value_counts()\n",
    "print(cook)"
   ]
  },
  {
   "cell_type": "code",
   "execution_count": 36,
   "metadata": {
    "scrolled": false
   },
   "outputs": [],
   "source": [
    "\n",
    "# df = StandardScaler().fit_transform(df)\n",
    "\n",
    "# Run local implementation of kmeans\n",
    "km = KMeans(n_clusters=3, max_iter=100)\n",
    "km.fit(df)\n",
    "\n",
    "labels =  km.labels_\n"
   ]
  },
  {
   "cell_type": "code",
   "execution_count": 56,
   "metadata": {},
   "outputs": [
    {
     "data": {
      "text/plain": [
       "Text(0.5,1,'Visualization of clustered data')"
      ]
     },
     "execution_count": 56,
     "metadata": {},
     "output_type": "execute_result"
    },
    {
     "data": {
      "image/png": "[encoded data removed]",
      "text/plain": [
       "<Figure size 720x720 with 1 Axes>"
      ]
     },
     "metadata": {
      "needs_background": "light"
     },
     "output_type": "display_data"
    }
   ],
   "source": [
    "\n",
    "fig, ax = plt.subplots(figsize=(10, 10))\n",
    "\n",
    "plt.scatter(df['breakfast'],df['coffee'],\n",
    "            c=km.labels_)\n",
    "# plt.scatter(df['Gender'],df['Gender'],\n",
    "#            c=km.labels_)\n",
    "# plt.scatter(df['persian_food'],df['persian_food'],\n",
    "#             c=km.labels_ )\n",
    "# plt.scatter(df['thai_food'],df['thai_food'],\n",
    "#           c=km.labels_ )\n",
    "# plt.scatter(df['coffee'],df['coffee'],\n",
    "#             c=km.labels_ )\n",
    "\n",
    "\n",
    "\n",
    "# plt.legend()\n",
    "plt.xlim([0, 3])\n",
    "plt.ylim([0, 3])\n",
    "plt.title('Visualization of clustered data', fontweight='bold')\n",
    "\n"
   ]
  },
  {
   "cell_type": "code",
   "execution_count": 57,
   "metadata": {},
   "outputs": [
    {
     "name": "stdout",
     "output_type": "stream",
     "text": [
      "[3920, 2968, 3111]\n"
     ]
    },
    {
     "data": {
      "text/plain": [
       "<BarContainer object of 3 artists>"
      ]
     },
     "execution_count": 57,
     "metadata": {},
     "output_type": "execute_result"
    },
    {
     "data": {
      "image/png": "[encoded data removed]",
      "text/plain": [
       "<Figure size 432x288 with 1 Axes>"
      ]
     },
     "metadata": {
      "needs_background": "light"
     },
     "output_type": "display_data"
    }
   ],
   "source": [
    "from collections import Counter\n",
    "c=Counter(labels)\n",
    "print(c.values())\n",
    "plt.bar(['c1', 'c2','c3'],c.values())"
   ]
  },
  {
   "cell_type": "code",
   "execution_count": null,
   "metadata": {},
   "outputs": [],
   "source": []
  }
 ],
 "metadata": {
  "kernelspec": {
   "display_name": "Python 3",
   "language": "python",
   "name": "python3"
  },
  "language_info": {
   "codemirror_mode": {
    "name": "ipython",
    "version": 2
   },
   "file_extension": ".py",
   "mimetype": "text/x-python",
   "name": "python",
   "nbconvert_exporter": "python",
   "pygments_lexer": "ipython2",
   "version": "2.7.16"
  }
 },
 "nbformat": 4,
 "nbformat_minor": 2
}
