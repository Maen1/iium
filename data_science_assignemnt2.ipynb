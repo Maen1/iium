{
  "cells": [
    {
      "metadata": {
        "trusted": true
      },
      "cell_type": "code",
      "source": "data <- read.csv('ibm.csv')",
      "execution_count": 3,
      "outputs": []
    },
    {
      "metadata": {
        "trusted": true
      },
      "cell_type": "code",
      "source": "head(data)",
      "execution_count": 14,
      "outputs": [
        {
          "output_type": "display_data",
          "data": {
            "text/plain": "  Customer State      Customer.Lifetime.Value Response Coverage Education\n1 BU79786  Washington  2763.519               No       Basic    Bachelor \n2 QZ44356  Arizona     6979.536               No       Extended Bachelor \n3 AI49188  Nevada     12887.432               No       Premium  Bachelor \n4 WW63253  California  7645.862               No       Basic    Bachelor \n5 HB64268  Washington  2813.693               No       Basic    Bachelor \n6 OC83172  Oregon      8256.298               Yes      Basic    Bachelor \n  Effective.To.Date EmploymentStatus Gender Income ...\n1 2/24/11           Employed         F      56274  ...\n2 1/31/11           Unemployed       F          0  ...\n3 2/19/11           Employed         F      48767  ...\n4 1/20/11           Unemployed       M          0  ...\n5 2/3/11            Employed         M      43836  ...\n6 1/25/11           Employed         F      62902  ...\n  Months.Since.Policy.Inception Number.of.Open.Complaints Number.of.Policies\n1  5                            0                         1                 \n2 42                            0                         8                 \n3 38                            0                         2                 \n4 65                            0                         7                 \n5 44                            0                         1                 \n6 94                            0                         2                 \n  Policy.Type    Policy       Renew.Offer.Type Sales.Channel Total.Claim.Amount\n1 Corporate Auto Corporate L3 Offer1           Agent          384.8111         \n2 Personal Auto  Personal L3  Offer3           Agent         1131.4649         \n3 Personal Auto  Personal L3  Offer1           Agent          566.4722         \n4 Corporate Auto Corporate L2 Offer1           Call Center    529.8813         \n5 Personal Auto  Personal L1  Offer1           Agent          138.1309         \n6 Personal Auto  Personal L3  Offer2           Web            159.3830         \n  Vehicle.Class Vehicle.Size\n1 Two-Door Car  Medsize     \n2 Four-Door Car Medsize     \n3 Two-Door Car  Medsize     \n4 SUV           Medsize     \n5 Four-Door Car Medsize     \n6 Two-Door Car  Medsize     ",
            "text/latex": "\\begin{tabular}{r|llllllllllllllllllllllll}\n Customer & State & Customer.Lifetime.Value & Response & Coverage & Education & Effective.To.Date & EmploymentStatus & Gender & Income & ... & Months.Since.Policy.Inception & Number.of.Open.Complaints & Number.of.Policies & Policy.Type & Policy & Renew.Offer.Type & Sales.Channel & Total.Claim.Amount & Vehicle.Class & Vehicle.Size\\\\\n\\hline\n\t BU79786        & Washington     &  2763.519      & No             & Basic          & Bachelor       & 2/24/11        & Employed       & F              & 56274          & ...            &  5             & 0              & 1              & Corporate Auto & Corporate L3   & Offer1         & Agent          &  384.8111      & Two-Door Car   & Medsize       \\\\\n\t QZ44356        & Arizona        &  6979.536      & No             & Extended       & Bachelor       & 1/31/11        & Unemployed     & F              &     0          & ...            & 42             & 0              & 8              & Personal Auto  & Personal L3    & Offer3         & Agent          & 1131.4649      & Four-Door Car  & Medsize       \\\\\n\t AI49188        & Nevada         & 12887.432      & No             & Premium        & Bachelor       & 2/19/11        & Employed       & F              & 48767          & ...            & 38             & 0              & 2              & Personal Auto  & Personal L3    & Offer1         & Agent          &  566.4722      & Two-Door Car   & Medsize       \\\\\n\t WW63253        & California     &  7645.862      & No             & Basic          & Bachelor       & 1/20/11        & Unemployed     & M              &     0          & ...            & 65             & 0              & 7              & Corporate Auto & Corporate L2   & Offer1         & Call Center    &  529.8813      & SUV            & Medsize       \\\\\n\t HB64268        & Washington     &  2813.693      & No             & Basic          & Bachelor       & 2/3/11         & Employed       & M              & 43836          & ...            & 44             & 0              & 1              & Personal Auto  & Personal L1    & Offer1         & Agent          &  138.1309      & Four-Door Car  & Medsize       \\\\\n\t OC83172        & Oregon         &  8256.298      & Yes            & Basic          & Bachelor       & 1/25/11        & Employed       & F              & 62902          & ...            & 94             & 0              & 2              & Personal Auto  & Personal L3    & Offer2         & Web            &  159.3830      & Two-Door Car   & Medsize       \\\\\n\\end{tabular}\n",
            "text/markdown": "\nCustomer | State | Customer.Lifetime.Value | Response | Coverage | Education | Effective.To.Date | EmploymentStatus | Gender | Income | ... | Months.Since.Policy.Inception | Number.of.Open.Complaints | Number.of.Policies | Policy.Type | Policy | Renew.Offer.Type | Sales.Channel | Total.Claim.Amount | Vehicle.Class | Vehicle.Size | \n|---|---|---|---|---|---|\n| BU79786        | Washington     |  2763.519      | No             | Basic          | Bachelor       | 2/24/11        | Employed       | F              | 56274          | ...            |  5             | 0              | 1              | Corporate Auto | Corporate L3   | Offer1         | Agent          |  384.8111      | Two-Door Car   | Medsize        | \n| QZ44356        | Arizona        |  6979.536      | No             | Extended       | Bachelor       | 1/31/11        | Unemployed     | F              |     0          | ...            | 42             | 0              | 8              | Personal Auto  | Personal L3    | Offer3         | Agent          | 1131.4649      | Four-Door Car  | Medsize        | \n| AI49188        | Nevada         | 12887.432      | No             | Premium        | Bachelor       | 2/19/11        | Employed       | F              | 48767          | ...            | 38             | 0              | 2              | Personal Auto  | Personal L3    | Offer1         | Agent          |  566.4722      | Two-Door Car   | Medsize        | \n| WW63253        | California     |  7645.862      | No             | Basic          | Bachelor       | 1/20/11        | Unemployed     | M              |     0          | ...            | 65             | 0              | 7              | Corporate Auto | Corporate L2   | Offer1         | Call Center    |  529.8813      | SUV            | Medsize        | \n| HB64268        | Washington     |  2813.693      | No             | Basic          | Bachelor       | 2/3/11         | Employed       | M              | 43836          | ...            | 44             | 0              | 1              | Personal Auto  | Personal L1    | Offer1         | Agent          |  138.1309      | Four-Door Car  | Medsize        | \n| OC83172        | Oregon         |  8256.298      | Yes            | Basic          | Bachelor       | 1/25/11        | Employed       | F              | 62902          | ...            | 94             | 0              | 2              | Personal Auto  | Personal L3    | Offer2         | Web            |  159.3830      | Two-Door Car   | Medsize        | \n\n\n",
            "text/html": "<table>\n<thead><tr><th scope=col>Customer</th><th scope=col>State</th><th scope=col>Customer.Lifetime.Value</th><th scope=col>Response</th><th scope=col>Coverage</th><th scope=col>Education</th><th scope=col>Effective.To.Date</th><th scope=col>EmploymentStatus</th><th scope=col>Gender</th><th scope=col>Income</th><th scope=col>...</th><th scope=col>Months.Since.Policy.Inception</th><th scope=col>Number.of.Open.Complaints</th><th scope=col>Number.of.Policies</th><th scope=col>Policy.Type</th><th scope=col>Policy</th><th scope=col>Renew.Offer.Type</th><th scope=col>Sales.Channel</th><th scope=col>Total.Claim.Amount</th><th scope=col>Vehicle.Class</th><th scope=col>Vehicle.Size</th></tr></thead>\n<tbody>\n\t<tr><td>BU79786       </td><td>Washington    </td><td> 2763.519     </td><td>No            </td><td>Basic         </td><td>Bachelor      </td><td>2/24/11       </td><td>Employed      </td><td>F             </td><td>56274         </td><td>...           </td><td> 5            </td><td>0             </td><td>1             </td><td>Corporate Auto</td><td>Corporate L3  </td><td>Offer1        </td><td>Agent         </td><td> 384.8111     </td><td>Two-Door Car  </td><td>Medsize       </td></tr>\n\t<tr><td>QZ44356       </td><td>Arizona       </td><td> 6979.536     </td><td>No            </td><td>Extended      </td><td>Bachelor      </td><td>1/31/11       </td><td>Unemployed    </td><td>F             </td><td>    0         </td><td>...           </td><td>42            </td><td>0             </td><td>8             </td><td>Personal Auto </td><td>Personal L3   </td><td>Offer3        </td><td>Agent         </td><td>1131.4649     </td><td>Four-Door Car </td><td>Medsize       </td></tr>\n\t<tr><td>AI49188       </td><td>Nevada        </td><td>12887.432     </td><td>No            </td><td>Premium       </td><td>Bachelor      </td><td>2/19/11       </td><td>Employed      </td><td>F             </td><td>48767         </td><td>...           </td><td>38            </td><td>0             </td><td>2             </td><td>Personal Auto </td><td>Personal L3   </td><td>Offer1        </td><td>Agent         </td><td> 566.4722     </td><td>Two-Door Car  </td><td>Medsize       </td></tr>\n\t<tr><td>WW63253       </td><td>California    </td><td> 7645.862     </td><td>No            </td><td>Basic         </td><td>Bachelor      </td><td>1/20/11       </td><td>Unemployed    </td><td>M             </td><td>    0         </td><td>...           </td><td>65            </td><td>0             </td><td>7             </td><td>Corporate Auto</td><td>Corporate L2  </td><td>Offer1        </td><td>Call Center   </td><td> 529.8813     </td><td>SUV           </td><td>Medsize       </td></tr>\n\t<tr><td>HB64268       </td><td>Washington    </td><td> 2813.693     </td><td>No            </td><td>Basic         </td><td>Bachelor      </td><td>2/3/11        </td><td>Employed      </td><td>M             </td><td>43836         </td><td>...           </td><td>44            </td><td>0             </td><td>1             </td><td>Personal Auto </td><td>Personal L1   </td><td>Offer1        </td><td>Agent         </td><td> 138.1309     </td><td>Four-Door Car </td><td>Medsize       </td></tr>\n\t<tr><td>OC83172       </td><td>Oregon        </td><td> 8256.298     </td><td>Yes           </td><td>Basic         </td><td>Bachelor      </td><td>1/25/11       </td><td>Employed      </td><td>F             </td><td>62902         </td><td>...           </td><td>94            </td><td>0             </td><td>2             </td><td>Personal Auto </td><td>Personal L3   </td><td>Offer2        </td><td>Web           </td><td> 159.3830     </td><td>Two-Door Car  </td><td>Medsize       </td></tr>\n</tbody>\n</table>\n"
          },
          "metadata": {}
        }
      ]
    },
    {
      "metadata": {
        "trusted": true
      },
      "cell_type": "code",
      "source": "cleaned_data <- data",
      "execution_count": 92,
      "outputs": []
    },
    {
      "metadata": {
        "trusted": true
      },
      "cell_type": "code",
      "source": "cleaned_data$Customer = NULL\ncleaned_data$Effective.To.Date = NULL\ncleaned_data$State = NULL\n\ncleaned_data<-na.omit(cleaned_data)\n\n#cleaned_data$Response = as.numeric(cleaned_data$Response)",
      "execution_count": 93,
      "outputs": []
    },
    {
      "metadata": {
        "trusted": true
      },
      "cell_type": "code",
      "source": "tail(cleaned_data)",
      "execution_count": 94,
      "outputs": [
        {
          "output_type": "display_data",
          "data": {
            "text/plain": "     Customer.Lifetime.Value Response Coverage Education EmploymentStatus\n9129  4100.399               No       Premium  College   Employed        \n9130 23405.988               No       Basic    Bachelor  Employed        \n9131  3096.511               Yes      Extended College   Employed        \n9132  8163.890               No       Extended Bachelor  Unemployed      \n9133  7524.442               No       Extended College   Employed        \n9134  2611.837               No       Extended College   Unemployed      \n     Gender Income Location.Code Marital.Status Monthly.Premium.Auto ...\n9129 F      47761  Suburban      Single         104                  ...\n9130 M      71941  Urban         Married         73                  ...\n9131 F      21604  Suburban      Divorced        79                  ...\n9132 M          0  Suburban      Single          85                  ...\n9133 M      21941  Suburban      Married         96                  ...\n9134 M          0  Suburban      Single          77                  ...\n     Months.Since.Policy.Inception Number.of.Open.Complaints Number.of.Policies\n9129 58                            0                         1                 \n9130 89                            0                         2                 \n9131 28                            0                         1                 \n9132 37                            3                         2                 \n9133  3                            0                         3                 \n9134 90                            0                         1                 \n     Policy.Type    Policy       Renew.Offer.Type Sales.Channel\n9129 Personal Auto  Personal L2  Offer1           Branch       \n9130 Personal Auto  Personal L1  Offer2           Web          \n9131 Corporate Auto Corporate L3 Offer1           Branch       \n9132 Corporate Auto Corporate L2 Offer1           Branch       \n9133 Personal Auto  Personal L2  Offer3           Branch       \n9134 Corporate Auto Corporate L3 Offer4           Call Center  \n     Total.Claim.Amount Vehicle.Class Vehicle.Size\n9129 541.2820           Four-Door Car Large       \n9130 198.2348           Four-Door Car Medsize     \n9131 379.2000           Four-Door Car Medsize     \n9132 790.7850           Four-Door Car Medsize     \n9133 691.2000           Four-Door Car Large       \n9134 369.6000           Two-Door Car  Medsize     ",
            "text/latex": "\\begin{tabular}{r|lllllllllllllllllllll}\n  & Customer.Lifetime.Value & Response & Coverage & Education & EmploymentStatus & Gender & Income & Location.Code & Marital.Status & Monthly.Premium.Auto & ... & Months.Since.Policy.Inception & Number.of.Open.Complaints & Number.of.Policies & Policy.Type & Policy & Renew.Offer.Type & Sales.Channel & Total.Claim.Amount & Vehicle.Class & Vehicle.Size\\\\\n\\hline\n\t9129 &  4100.399      & No             & Premium        & College        & Employed       & F              & 47761          & Suburban       & Single         & 104            & ...            & 58             & 0              & 1              & Personal Auto  & Personal L2    & Offer1         & Branch         & 541.2820       & Four-Door Car  & Large         \\\\\n\t9130 & 23405.988      & No             & Basic          & Bachelor       & Employed       & M              & 71941          & Urban          & Married        &  73            & ...            & 89             & 0              & 2              & Personal Auto  & Personal L1    & Offer2         & Web            & 198.2348       & Four-Door Car  & Medsize       \\\\\n\t9131 &  3096.511      & Yes            & Extended       & College        & Employed       & F              & 21604          & Suburban       & Divorced       &  79            & ...            & 28             & 0              & 1              & Corporate Auto & Corporate L3   & Offer1         & Branch         & 379.2000       & Four-Door Car  & Medsize       \\\\\n\t9132 &  8163.890      & No             & Extended       & Bachelor       & Unemployed     & M              &     0          & Suburban       & Single         &  85            & ...            & 37             & 3              & 2              & Corporate Auto & Corporate L2   & Offer1         & Branch         & 790.7850       & Four-Door Car  & Medsize       \\\\\n\t9133 &  7524.442      & No             & Extended       & College        & Employed       & M              & 21941          & Suburban       & Married        &  96            & ...            &  3             & 0              & 3              & Personal Auto  & Personal L2    & Offer3         & Branch         & 691.2000       & Four-Door Car  & Large         \\\\\n\t9134 &  2611.837      & No             & Extended       & College        & Unemployed     & M              &     0          & Suburban       & Single         &  77            & ...            & 90             & 0              & 1              & Corporate Auto & Corporate L3   & Offer4         & Call Center    & 369.6000       & Two-Door Car   & Medsize       \\\\\n\\end{tabular}\n",
            "text/markdown": "\n| <!--/--> | Customer.Lifetime.Value | Response | Coverage | Education | EmploymentStatus | Gender | Income | Location.Code | Marital.Status | Monthly.Premium.Auto | ... | Months.Since.Policy.Inception | Number.of.Open.Complaints | Number.of.Policies | Policy.Type | Policy | Renew.Offer.Type | Sales.Channel | Total.Claim.Amount | Vehicle.Class | Vehicle.Size | \n|---|---|---|---|---|---|\n| 9129 |  4100.399      | No             | Premium        | College        | Employed       | F              | 47761          | Suburban       | Single         | 104            | ...            | 58             | 0              | 1              | Personal Auto  | Personal L2    | Offer1         | Branch         | 541.2820       | Four-Door Car  | Large          | \n| 9130 | 23405.988      | No             | Basic          | Bachelor       | Employed       | M              | 71941          | Urban          | Married        |  73            | ...            | 89             | 0              | 2              | Personal Auto  | Personal L1    | Offer2         | Web            | 198.2348       | Four-Door Car  | Medsize        | \n| 9131 |  3096.511      | Yes            | Extended       | College        | Employed       | F              | 21604          | Suburban       | Divorced       |  79            | ...            | 28             | 0              | 1              | Corporate Auto | Corporate L3   | Offer1         | Branch         | 379.2000       | Four-Door Car  | Medsize        | \n| 9132 |  8163.890      | No             | Extended       | Bachelor       | Unemployed     | M              |     0          | Suburban       | Single         |  85            | ...            | 37             | 3              | 2              | Corporate Auto | Corporate L2   | Offer1         | Branch         | 790.7850       | Four-Door Car  | Medsize        | \n| 9133 |  7524.442      | No             | Extended       | College        | Employed       | M              | 21941          | Suburban       | Married        |  96            | ...            |  3             | 0              | 3              | Personal Auto  | Personal L2    | Offer3         | Branch         | 691.2000       | Four-Door Car  | Large          | \n| 9134 |  2611.837      | No             | Extended       | College        | Unemployed     | M              |     0          | Suburban       | Single         |  77            | ...            | 90             | 0              | 1              | Corporate Auto | Corporate L3   | Offer4         | Call Center    | 369.6000       | Two-Door Car   | Medsize        | \n\n\n",
            "text/html": "<table>\n<thead><tr><th></th><th scope=col>Customer.Lifetime.Value</th><th scope=col>Response</th><th scope=col>Coverage</th><th scope=col>Education</th><th scope=col>EmploymentStatus</th><th scope=col>Gender</th><th scope=col>Income</th><th scope=col>Location.Code</th><th scope=col>Marital.Status</th><th scope=col>Monthly.Premium.Auto</th><th scope=col>...</th><th scope=col>Months.Since.Policy.Inception</th><th scope=col>Number.of.Open.Complaints</th><th scope=col>Number.of.Policies</th><th scope=col>Policy.Type</th><th scope=col>Policy</th><th scope=col>Renew.Offer.Type</th><th scope=col>Sales.Channel</th><th scope=col>Total.Claim.Amount</th><th scope=col>Vehicle.Class</th><th scope=col>Vehicle.Size</th></tr></thead>\n<tbody>\n\t<tr><th scope=row>9129</th><td> 4100.399     </td><td>No            </td><td>Premium       </td><td>College       </td><td>Employed      </td><td>F             </td><td>47761         </td><td>Suburban      </td><td>Single        </td><td>104           </td><td>...           </td><td>58            </td><td>0             </td><td>1             </td><td>Personal Auto </td><td>Personal L2   </td><td>Offer1        </td><td>Branch        </td><td>541.2820      </td><td>Four-Door Car </td><td>Large         </td></tr>\n\t<tr><th scope=row>9130</th><td>23405.988     </td><td>No            </td><td>Basic         </td><td>Bachelor      </td><td>Employed      </td><td>M             </td><td>71941         </td><td>Urban         </td><td>Married       </td><td> 73           </td><td>...           </td><td>89            </td><td>0             </td><td>2             </td><td>Personal Auto </td><td>Personal L1   </td><td>Offer2        </td><td>Web           </td><td>198.2348      </td><td>Four-Door Car </td><td>Medsize       </td></tr>\n\t<tr><th scope=row>9131</th><td> 3096.511     </td><td>Yes           </td><td>Extended      </td><td>College       </td><td>Employed      </td><td>F             </td><td>21604         </td><td>Suburban      </td><td>Divorced      </td><td> 79           </td><td>...           </td><td>28            </td><td>0             </td><td>1             </td><td>Corporate Auto</td><td>Corporate L3  </td><td>Offer1        </td><td>Branch        </td><td>379.2000      </td><td>Four-Door Car </td><td>Medsize       </td></tr>\n\t<tr><th scope=row>9132</th><td> 8163.890     </td><td>No            </td><td>Extended      </td><td>Bachelor      </td><td>Unemployed    </td><td>M             </td><td>    0         </td><td>Suburban      </td><td>Single        </td><td> 85           </td><td>...           </td><td>37            </td><td>3             </td><td>2             </td><td>Corporate Auto</td><td>Corporate L2  </td><td>Offer1        </td><td>Branch        </td><td>790.7850      </td><td>Four-Door Car </td><td>Medsize       </td></tr>\n\t<tr><th scope=row>9133</th><td> 7524.442     </td><td>No            </td><td>Extended      </td><td>College       </td><td>Employed      </td><td>M             </td><td>21941         </td><td>Suburban      </td><td>Married       </td><td> 96           </td><td>...           </td><td> 3            </td><td>0             </td><td>3             </td><td>Personal Auto </td><td>Personal L2   </td><td>Offer3        </td><td>Branch        </td><td>691.2000      </td><td>Four-Door Car </td><td>Large         </td></tr>\n\t<tr><th scope=row>9134</th><td> 2611.837     </td><td>No            </td><td>Extended      </td><td>College       </td><td>Unemployed    </td><td>M             </td><td>    0         </td><td>Suburban      </td><td>Single        </td><td> 77           </td><td>...           </td><td>90            </td><td>0             </td><td>1             </td><td>Corporate Auto</td><td>Corporate L3  </td><td>Offer4        </td><td>Call Center   </td><td>369.6000      </td><td>Two-Door Car  </td><td>Medsize       </td></tr>\n</tbody>\n</table>\n"
          },
          "metadata": {}
        }
      ]
    },
    {
      "metadata": {
        "trusted": true
      },
      "cell_type": "code",
      "source": "summary(cleaned_data)",
      "execution_count": 95,
      "outputs": [
        {
          "output_type": "display_data",
          "data": {
            "text/plain": " Customer.Lifetime.Value Response       Coverage                   Education   \n Min.   : 1898           No :7826   Basic   :5568   Bachelor            :2748  \n 1st Qu.: 3994           Yes:1308   Extended:2742   College             :2681  \n Median : 5780                      Premium : 824   Doctor              : 342  \n Mean   : 8005                                      High School or Below:2622  \n 3rd Qu.: 8962                                      Master              : 741  \n Max.   :83325                                                                 \n                                                                               \n      EmploymentStatus Gender       Income       Location.Code   Marital.Status\n Disabled     : 405    F:4658   Min.   :    0   Rural   :1773   Divorced:1369  \n Employed     :5698    M:4476   1st Qu.:    0   Suburban:5779   Married :5298  \n Medical Leave: 432             Median :33890   Urban   :1582   Single  :2467  \n Retired      : 282             Mean   :37657                                  \n Unemployed   :2317             3rd Qu.:62320                                  \n                                Max.   :99981                                  \n                                                                               \n Monthly.Premium.Auto Months.Since.Last.Claim Months.Since.Policy.Inception\n Min.   : 61.00       Min.   : 0.0            Min.   : 0.00                \n 1st Qu.: 68.00       1st Qu.: 6.0            1st Qu.:24.00                \n Median : 83.00       Median :14.0            Median :48.00                \n Mean   : 93.22       Mean   :15.1            Mean   :48.06                \n 3rd Qu.:109.00       3rd Qu.:23.0            3rd Qu.:71.00                \n Max.   :298.00       Max.   :35.0            Max.   :99.00                \n                                                                           \n Number.of.Open.Complaints Number.of.Policies         Policy.Type  \n Min.   :0.0000            Min.   :1.000      Corporate Auto:1968  \n 1st Qu.:0.0000            1st Qu.:1.000      Personal Auto :6788  \n Median :0.0000            Median :2.000      Special Auto  : 378  \n Mean   :0.3844            Mean   :2.966                           \n 3rd Qu.:0.0000            3rd Qu.:4.000                           \n Max.   :5.0000            Max.   :9.000                           \n                                                                   \n          Policy     Renew.Offer.Type     Sales.Channel  Total.Claim.Amount\n Personal L3 :3426   Offer1:3752      Agent      :3477   Min.   :   0.099  \n Personal L2 :2122   Offer2:2926      Branch     :2567   1st Qu.: 272.258  \n Personal L1 :1240   Offer3:1432      Call Center:1765   Median : 383.945  \n Corporate L3:1014   Offer4:1024      Web        :1325   Mean   : 434.089  \n Corporate L2: 595                                       3rd Qu.: 547.515  \n Corporate L1: 359                                       Max.   :2893.240  \n (Other)     : 378                                                         \n       Vehicle.Class   Vehicle.Size \n Four-Door Car:4621   Large  : 946  \n Luxury Car   : 163   Medsize:6424  \n Luxury SUV   : 184   Small  :1764  \n Sports Car   : 484                 \n SUV          :1796                 \n Two-Door Car :1886                 \n                                    "
          },
          "metadata": {}
        }
      ]
    },
    {
      "metadata": {
        "trusted": true
      },
      "cell_type": "code",
      "source": "bd <- ceiling(nrow(cleaned_data) * 0.8)",
      "execution_count": 96,
      "outputs": []
    },
    {
      "metadata": {
        "trusted": true
      },
      "cell_type": "code",
      "source": "train <- cleaned_data[0:bd, ]\ntest <- cleaned_data[bd: nrow(cleaned_data), ]",
      "execution_count": 111,
      "outputs": []
    },
    {
      "metadata": {
        "trusted": true
      },
      "cell_type": "code",
      "source": "library(e1071)",
      "execution_count": 112,
      "outputs": []
    },
    {
      "metadata": {
        "trusted": true
      },
      "cell_type": "code",
      "source": "svm_model <- svm(Response ~., train, cost = 10, gamma = 0.5)",
      "execution_count": 120,
      "outputs": []
    },
    {
      "metadata": {
        "trusted": true
      },
      "cell_type": "code",
      "source": "summary(svm_model)",
      "execution_count": 121,
      "outputs": [
        {
          "output_type": "display_data",
          "data": {
            "text/plain": "\nCall:\nsvm(formula = Response ~ ., data = train, cost = 10, gamma = 0.5)\n\n\nParameters:\n   SVM-Type:  C-classification \n SVM-Kernel:  radial \n       cost:  10 \n      gamma:  0.5 \n\nNumber of Support Vectors:  6478\n\n ( 5654 824 )\n\n\nNumber of Classes:  2 \n\nLevels: \n No Yes\n\n\n"
          },
          "metadata": {}
        }
      ]
    },
    {
      "metadata": {
        "trusted": true
      },
      "cell_type": "code",
      "source": "pred <- predict(svm_model, test)",
      "execution_count": 122,
      "outputs": []
    },
    {
      "metadata": {
        "trusted": true
      },
      "cell_type": "code",
      "source": "head(test$Response)\nsummary(pred)\nnrow(test)",
      "execution_count": 123,
      "outputs": [
        {
          "output_type": "display_data",
          "data": {
            "text/plain": "[1] Yes No  Yes Yes No  Yes\nLevels: No Yes",
            "text/latex": "\\begin{enumerate*}\n\\item Yes\n\\item No\n\\item Yes\n\\item Yes\n\\item No\n\\item Yes\n\\end{enumerate*}\n\n\\emph{Levels}: \\begin{enumerate*}\n\\item 'No'\n\\item 'Yes'\n\\end{enumerate*}\n",
            "text/markdown": "1. Yes\n2. No\n3. Yes\n4. Yes\n5. No\n6. Yes\n\n\n\n**Levels**: 1. 'No'\n2. 'Yes'\n\n\n",
            "text/html": "<ol class=list-inline>\n\t<li>Yes</li>\n\t<li>No</li>\n\t<li>Yes</li>\n\t<li>Yes</li>\n\t<li>No</li>\n\t<li>Yes</li>\n</ol>\n\n<details>\n\t<summary style=display:list-item;cursor:pointer>\n\t\t<strong>Levels</strong>:\n\t</summary>\n\t<ol class=list-inline>\n\t\t<li>'No'</li>\n\t\t<li>'Yes'</li>\n\t</ol>\n</details>"
          },
          "metadata": {}
        },
        {
          "output_type": "display_data",
          "data": {
            "text/plain": "  No  Yes \n1615  212 ",
            "text/latex": "\\begin{description*}\n\\item[No] 1615\n\\item[Yes] 212\n\\end{description*}\n",
            "text/markdown": "No\n:   1615Yes\n:   212\n\n",
            "text/html": "<dl class=dl-horizontal>\n\t<dt>No</dt>\n\t\t<dd>1615</dd>\n\t<dt>Yes</dt>\n\t\t<dd>212</dd>\n</dl>\n"
          },
          "metadata": {}
        },
        {
          "output_type": "display_data",
          "data": {
            "text/plain": "[1] 1827",
            "text/latex": "1827",
            "text/markdown": "1827",
            "text/html": "1827"
          },
          "metadata": {}
        }
      ]
    },
    {
      "metadata": {
        "trusted": true
      },
      "cell_type": "code",
      "source": "conf <- table(pred, test$Response) ",
      "execution_count": 124,
      "outputs": []
    },
    {
      "metadata": {
        "trusted": true
      },
      "cell_type": "code",
      "source": "acc <- sum(diag(conf)) / sum(conf)",
      "execution_count": 125,
      "outputs": []
    },
    {
      "metadata": {
        "trusted": true
      },
      "cell_type": "code",
      "source": "acc",
      "execution_count": 126,
      "outputs": [
        {
          "output_type": "display_data",
          "data": {
            "text/plain": "[1] 0.9792009",
            "text/latex": "0.9792008757526",
            "text/markdown": "0.9792008757526",
            "text/html": "0.9792008757526"
          },
          "metadata": {}
        }
      ]
    },
    {
      "metadata": {
        "trusted": true
      },
      "cell_type": "code",
      "source": "",
      "execution_count": null,
      "outputs": []
    }
  ],
  "metadata": {
    "kernelspec": {
      "name": "r",
      "display_name": "R",
      "language": "R"
    },
    "language_info": {
      "mimetype": "text/x-r-source",
      "name": "R",
      "pygments_lexer": "r",
      "version": "3.4.1",
      "file_extension": ".r",
      "codemirror_mode": "r"
    }
  },
  "nbformat": 4,
  "nbformat_minor": 1
}