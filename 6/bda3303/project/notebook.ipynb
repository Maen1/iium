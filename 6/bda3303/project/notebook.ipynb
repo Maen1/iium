{
 "cells": [
  {
   "cell_type": "code",
   "execution_count": 80,
   "metadata": {},
   "outputs": [],
   "source": [
    "import numpy as np\n",
    "import pandas as pd\n",
    "from sklearn.cluster import KMeans\n",
    "from sklearn.preprocessing import StandardScaler\n",
    "from sklearn.model_selection import train_test_split\n",
    "from sklearn.metrics import pairwise_distances_argmin\n",
    "import matplotlib\n",
    "from sklearn import preprocessing\n",
    "\n",
    "\n",
    "import matplotlib.pyplot as plt\n",
    "%matplotlib inline"
   ]
  },
  {
   "cell_type": "code",
   "execution_count": 81,
   "metadata": {},
   "outputs": [
    {
     "name": "stdout",
     "output_type": "stream",
     "text": [
      "     GPA  Gender  breakfast  calories_chicken  calories_day  calories_scone  \\\n",
      "0  2.400       2          1               430           NaN           315.0   \n",
      "1  3.654       1          1               610           3.0           420.0   \n",
      "2  3.300       1          1               720           4.0           420.0   \n",
      "3  3.200       1          1               430           3.0           420.0   \n",
      "4  3.500       1          1               720           2.0           420.0   \n",
      "\n",
      "   coffee  comfort_food_reasons_coded  cook  comfort_food_reasons_coded.1  \\\n",
      "0       1                         9.0   2.0                             9   \n",
      "1       2                         1.0   3.0                             1   \n",
      "2       2                         1.0   1.0                             1   \n",
      "3       2                         2.0   2.0                             2   \n",
      "4       2                         1.0   1.0                             1   \n",
      "\n",
      "   ...  persian_food  self_perception_weight  soup  sports  thai_food  \\\n",
      "0  ...           5.0                     3.0   1.0     1.0          1   \n",
      "1  ...           4.0                     3.0   1.0     1.0          2   \n",
      "2  ...           5.0                     6.0   1.0     2.0          5   \n",
      "3  ...           5.0                     5.0   1.0     2.0          5   \n",
      "4  ...           2.0                     4.0   1.0     1.0          4   \n",
      "\n",
      "   tortilla_calories  turkey_calories  veggies_day  vitamins  waffle_calories  \n",
      "0             1165.0              345            5         1             1315  \n",
      "1              725.0              690            4         2              900  \n",
      "2             1165.0              500            5         1              900  \n",
      "3              725.0              690            3         1             1315  \n",
      "4              940.0              500            4         2              760  \n",
      "\n",
      "[5 rows x 48 columns]\n",
      "float64    21\n",
      "int64      27\n",
      "dtype: int64\n",
      "101\n",
      "0\n"
     ]
    }
   ],
   "source": [
    "# data cleaning\n",
    "df = pd.read_csv('./food_coded.csv', na_values=\"nan\")\n",
    "\n",
    "drop_cols = ['comfort_food', 'comfort_food_reasons',\n",
    "'diet_current', 'eating_changes', 'father_profession',\n",
    "'fav_cuisine', 'food_childhood','healthy_meal', 'ideal_diet',\n",
    "'meals_dinner_friend','mother_profession','type_sports','weight']\n",
    "\n",
    "df.drop(drop_cols, inplace=True, axis=1)\n",
    "print(df.head())\n",
    "print(df.get_dtype_counts())\n",
    "\n",
    "print(df.isnull().sum().sum())\n",
    "\n",
    "## fill na values\n",
    "for column in df:\n",
    "    median = df[column].median()\n",
    "    df[column].fillna(median, inplace=True)\n",
    "## end data cleaning\n",
    "print(df.isnull().sum().sum())"
   ]
  },
  {
   "cell_type": "code",
   "execution_count": 100,
   "metadata": {
    "scrolled": true
   },
   "outputs": [],
   "source": [
    "to_drop2 =['Id','GPA','calories_chicken', 'calories_scone', \n",
    "           'comfort_food_reasons_coded.1','self_perception_weight', \n",
    "          'tortilla_calories','turkey_calories','waffle_calories',\n",
    "          'ethnic_food', 'exercise', 'father_education',\n",
    "          'eating_changes_coded', 'eating_changes_coded1','employment', \n",
    "          'nutritional_check', 'fav_cuisine_coded','life_rewarding','grade_level',\n",
    "           'calories_day', 'pay_meal_out', 'tortilla_calories','turkey_calories',\n",
    "           ##extra\n",
    "           'Gender','comfort_food_reasons_coded', 'cuisine','mother_education', 'persian_food',\n",
    "           'thai_food', 'indian_food', 'italian_food', 'vitamins', 'greek_food', 'ideal_diet_coded', \n",
    "           'fruit_day', 'fries', 'cook', 'healthy_feeling', 'on_off_campus', 'marital_status', 'veggies_day',\n",
    "           'sports', 'income', 'diet_current_coded', 'soup', 'parents_cook', 'coffee', 'breakfast', 'drink','eating_out'\n",
    "           \n",
    "          ]\n",
    "\n",
    "\n",
    "\n",
    "\n",
    "\n",
    "df = pd.read_csv('./food_cleaned1.csv')\n",
    "df.drop(to_drop2, inplace=True, axis=1)\n",
    "\n",
    "\n"
   ]
  },
  {
   "cell_type": "code",
   "execution_count": 101,
   "metadata": {},
   "outputs": [
    {
     "name": "stdout",
     "output_type": "stream",
     "text": [
      "   fav_food\n",
      "0         1\n",
      "1         1\n",
      "2         3\n",
      "3         1\n",
      "4         3\n"
     ]
    }
   ],
   "source": [
    "print(df.head())"
   ]
  },
  {
   "cell_type": "code",
   "execution_count": 102,
   "metadata": {},
   "outputs": [
    {
     "name": "stdout",
     "output_type": "stream",
     "text": [
      "0       1\n",
      "1       1\n",
      "2       3\n",
      "3       1\n",
      "4       3\n",
      "5       3\n",
      "6       1\n",
      "7       1\n",
      "8       3\n",
      "9       1\n",
      "10      1\n",
      "11      1\n",
      "12      3\n",
      "13      1\n",
      "14      3\n",
      "15      2\n",
      "16      1\n",
      "17      3\n",
      "18      3\n",
      "19      1\n",
      "20      3\n",
      "21      2\n",
      "22      1\n",
      "23      1\n",
      "24      1\n",
      "25      3\n",
      "26      1\n",
      "27      1\n",
      "28      1\n",
      "29      1\n",
      "       ..\n",
      "9969    6\n",
      "9970    7\n",
      "9971    2\n",
      "9972    8\n",
      "9973    3\n",
      "9974    3\n",
      "9975    6\n",
      "9976    1\n",
      "9977    9\n",
      "9978    8\n",
      "9979    8\n",
      "9980    1\n",
      "9981    4\n",
      "9982    4\n",
      "9983    8\n",
      "9984    7\n",
      "9985    4\n",
      "9986    9\n",
      "9987    4\n",
      "9988    3\n",
      "9989    9\n",
      "9990    5\n",
      "9991    3\n",
      "9992    6\n",
      "9993    1\n",
      "9994    7\n",
      "9995    8\n",
      "9996    3\n",
      "9997    5\n",
      "9998    6\n",
      "Name: fav_food, Length: 9999, dtype: int64\n"
     ]
    }
   ],
   "source": [
    "print(df['fav_food'])"
   ]
  },
  {
   "cell_type": "code",
   "execution_count": 103,
   "metadata": {
    "scrolled": false
   },
   "outputs": [],
   "source": [
    "\n",
    "\n",
    "x = df.values #returns a numpy array\n",
    "min_max_scaler = preprocessing.MinMaxScaler()\n",
    "x_scaled = min_max_scaler.fit_transform(x)\n",
    "df = pd.DataFrame(x_scaled)\n",
    "\n",
    "# Run local implementation of kmeans\n",
    "km = KMeans(n_clusters=3, max_iter=100)\n",
    "km.fit(df)\n",
    "\n",
    "labels =  km.labels_\n"
   ]
  },
  {
   "cell_type": "code",
   "execution_count": 109,
   "metadata": {},
   "outputs": [
    {
     "ename": "ValueError",
     "evalue": "x and y must be the same size",
     "output_type": "error",
     "traceback": [
      "\u001b[0;31m---------------------------------------------------------------------------\u001b[0m",
      "\u001b[0;31mValueError\u001b[0m                                Traceback (most recent call last)",
      "\u001b[0;32m<ipython-input-109-9c58bcef309e>\u001b[0m in \u001b[0;36m<module>\u001b[0;34m()\u001b[0m\n\u001b[1;32m      3\u001b[0m \u001b[0;34m\u001b[0m\u001b[0m\n\u001b[1;32m      4\u001b[0m plt.scatter(df[:0],df[:1],\n\u001b[0;32m----> 5\u001b[0;31m             c=km.labels_)\n\u001b[0m\u001b[1;32m      6\u001b[0m \u001b[0;31m# plt.scatter(df[1],df[0],\u001b[0m\u001b[0;34m\u001b[0m\u001b[0;34m\u001b[0m\u001b[0m\n\u001b[1;32m      7\u001b[0m \u001b[0;31m#            c=km.labels_)\u001b[0m\u001b[0;34m\u001b[0m\u001b[0;34m\u001b[0m\u001b[0m\n",
      "\u001b[0;32m/Users/Maen/.virtualenvs/tf/lib/python2.7/site-packages/matplotlib/pyplot.pyc\u001b[0m in \u001b[0;36mscatter\u001b[0;34m(x, y, s, c, marker, cmap, norm, vmin, vmax, alpha, linewidths, verts, edgecolors, hold, data, **kwargs)\u001b[0m\n\u001b[1;32m   3473\u001b[0m                          \u001b[0mvmin\u001b[0m\u001b[0;34m=\u001b[0m\u001b[0mvmin\u001b[0m\u001b[0;34m,\u001b[0m \u001b[0mvmax\u001b[0m\u001b[0;34m=\u001b[0m\u001b[0mvmax\u001b[0m\u001b[0;34m,\u001b[0m \u001b[0malpha\u001b[0m\u001b[0;34m=\u001b[0m\u001b[0malpha\u001b[0m\u001b[0;34m,\u001b[0m\u001b[0;34m\u001b[0m\u001b[0m\n\u001b[1;32m   3474\u001b[0m                          \u001b[0mlinewidths\u001b[0m\u001b[0;34m=\u001b[0m\u001b[0mlinewidths\u001b[0m\u001b[0;34m,\u001b[0m \u001b[0mverts\u001b[0m\u001b[0;34m=\u001b[0m\u001b[0mverts\u001b[0m\u001b[0;34m,\u001b[0m\u001b[0;34m\u001b[0m\u001b[0m\n\u001b[0;32m-> 3475\u001b[0;31m                          edgecolors=edgecolors, data=data, **kwargs)\n\u001b[0m\u001b[1;32m   3476\u001b[0m     \u001b[0;32mfinally\u001b[0m\u001b[0;34m:\u001b[0m\u001b[0;34m\u001b[0m\u001b[0m\n\u001b[1;32m   3477\u001b[0m         \u001b[0max\u001b[0m\u001b[0;34m.\u001b[0m\u001b[0m_hold\u001b[0m \u001b[0;34m=\u001b[0m \u001b[0mwashold\u001b[0m\u001b[0;34m\u001b[0m\u001b[0m\n",
      "\u001b[0;32m/Users/Maen/.virtualenvs/tf/lib/python2.7/site-packages/matplotlib/__init__.pyc\u001b[0m in \u001b[0;36minner\u001b[0;34m(ax, *args, **kwargs)\u001b[0m\n\u001b[1;32m   1865\u001b[0m                         \u001b[0;34m\"the Matplotlib list!)\"\u001b[0m \u001b[0;34m%\u001b[0m \u001b[0;34m(\u001b[0m\u001b[0mlabel_namer\u001b[0m\u001b[0;34m,\u001b[0m \u001b[0mfunc\u001b[0m\u001b[0;34m.\u001b[0m\u001b[0m__name__\u001b[0m\u001b[0;34m)\u001b[0m\u001b[0;34m,\u001b[0m\u001b[0;34m\u001b[0m\u001b[0m\n\u001b[1;32m   1866\u001b[0m                         RuntimeWarning, stacklevel=2)\n\u001b[0;32m-> 1867\u001b[0;31m             \u001b[0;32mreturn\u001b[0m \u001b[0mfunc\u001b[0m\u001b[0;34m(\u001b[0m\u001b[0max\u001b[0m\u001b[0;34m,\u001b[0m \u001b[0;34m*\u001b[0m\u001b[0margs\u001b[0m\u001b[0;34m,\u001b[0m \u001b[0;34m**\u001b[0m\u001b[0mkwargs\u001b[0m\u001b[0;34m)\u001b[0m\u001b[0;34m\u001b[0m\u001b[0m\n\u001b[0m\u001b[1;32m   1868\u001b[0m \u001b[0;34m\u001b[0m\u001b[0m\n\u001b[1;32m   1869\u001b[0m         inner.__doc__ = _add_data_doc(inner.__doc__,\n",
      "\u001b[0;32m/Users/Maen/.virtualenvs/tf/lib/python2.7/site-packages/matplotlib/axes/_axes.pyc\u001b[0m in \u001b[0;36mscatter\u001b[0;34m(self, x, y, s, c, marker, cmap, norm, vmin, vmax, alpha, linewidths, verts, edgecolors, **kwargs)\u001b[0m\n\u001b[1;32m   4255\u001b[0m         \u001b[0my\u001b[0m \u001b[0;34m=\u001b[0m \u001b[0mnp\u001b[0m\u001b[0;34m.\u001b[0m\u001b[0mma\u001b[0m\u001b[0;34m.\u001b[0m\u001b[0mravel\u001b[0m\u001b[0;34m(\u001b[0m\u001b[0my\u001b[0m\u001b[0;34m)\u001b[0m\u001b[0;34m\u001b[0m\u001b[0m\n\u001b[1;32m   4256\u001b[0m         \u001b[0;32mif\u001b[0m \u001b[0mx\u001b[0m\u001b[0;34m.\u001b[0m\u001b[0msize\u001b[0m \u001b[0;34m!=\u001b[0m \u001b[0my\u001b[0m\u001b[0;34m.\u001b[0m\u001b[0msize\u001b[0m\u001b[0;34m:\u001b[0m\u001b[0;34m\u001b[0m\u001b[0m\n\u001b[0;32m-> 4257\u001b[0;31m             \u001b[0;32mraise\u001b[0m \u001b[0mValueError\u001b[0m\u001b[0;34m(\u001b[0m\u001b[0;34m\"x and y must be the same size\"\u001b[0m\u001b[0;34m)\u001b[0m\u001b[0;34m\u001b[0m\u001b[0m\n\u001b[0m\u001b[1;32m   4258\u001b[0m \u001b[0;34m\u001b[0m\u001b[0m\n\u001b[1;32m   4259\u001b[0m         \u001b[0;32mif\u001b[0m \u001b[0ms\u001b[0m \u001b[0;32mis\u001b[0m \u001b[0mNone\u001b[0m\u001b[0;34m:\u001b[0m\u001b[0;34m\u001b[0m\u001b[0m\n",
      "\u001b[0;31mValueError\u001b[0m: x and y must be the same size"
     ]
    },
    {
     "data": {
      "image/png": "[encoded data removed]",
      "text/plain": [
       "<Figure size 720x720 with 1 Axes>"
      ]
     },
     "metadata": {
      "needs_background": "light"
     },
     "output_type": "display_data"
    }
   ],
   "source": [
    "\n",
    "fig, ax = plt.subplots(figsize=(10, 10))\n",
    "\n",
    "plt.scatter(df[:0],df[:1],\n",
    "            c=km.labels_)\n",
    "# plt.scatter(df[1],df[0],\n",
    "#            c=km.labels_)\n",
    "# plt.scatter(df['persian_food'],df['persian_food'],\n",
    "#             c=km.labels_ )\n",
    "# plt.scatter(df['thai_food'],df['thai_food'],\n",
    "#           c=km.labels_ )\n",
    "# plt.scatter(df['coffee'],df['coffee'],\n",
    "#             c=km.labels_ )\n",
    "\n",
    "\n",
    "\n",
    "# plt.legend()\n",
    "plt.xlim([-2, 3])\n",
    "plt.ylim([-2, 3])\n",
    "plt.title('Visualization of clustered data', fontweight='bold')\n",
    "\n"
   ]
  },
  {
   "cell_type": "code",
   "execution_count": 108,
   "metadata": {},
   "outputs": [
    {
     "name": "stdout",
     "output_type": "stream",
     "text": [
      "[3251, 3408, 3340]\n"
     ]
    },
    {
     "data": {
      "text/plain": [
       "<BarContainer object of 3 artists>"
      ]
     },
     "execution_count": 108,
     "metadata": {},
     "output_type": "execute_result"
    },
    {
     "data": {
      "image/png": "[encoded data removed]",
      "text/plain": [
       "<Figure size 432x288 with 1 Axes>"
      ]
     },
     "metadata": {
      "needs_background": "light"
     },
     "output_type": "display_data"
    }
   ],
   "source": [
    "from collections import Counter\n",
    "c=Counter(labels)\n",
    "print(c.values())\n",
    "plt.bar(['c1', 'c2','c3'],c.values())"
   ]
  },
  {
   "cell_type": "code",
   "execution_count": 99,
   "metadata": {},
   "outputs": [
    {
     "data": {
      "image/png": "[encoded data removed]",
      "text/plain": [
       "<Figure size 432x432 with 1 Axes>"
      ]
     },
     "metadata": {
      "needs_background": "light"
     },
     "output_type": "display_data"
    }
   ],
   "source": [
    "sse = []\n",
    "list_k = list(range(3, 15))\n",
    "\n",
    "for k in list_k:\n",
    "    km = KMeans(n_clusters=k)\n",
    "    km.fit(df)\n",
    "    sse.append(km.inertia_)\n",
    "\n",
    "# Plot sse against k\n",
    "plt.figure(figsize=(6, 6))\n",
    "plt.plot(list_k, sse, '-o')\n",
    "plt.xlabel(r'Number of clusters *k*')\n",
    "plt.ylabel('Sum of squared distance');"
   ]
  },
  {
   "cell_type": "code",
   "execution_count": null,
   "metadata": {},
   "outputs": [],
   "source": []
  }
 ],
 "metadata": {
  "kernelspec": {
   "display_name": "Python 3",
   "language": "python",
   "name": "python3"
  },
  "language_info": {
   "codemirror_mode": {
    "name": "ipython",
    "version": 2
   },
   "file_extension": ".py",
   "mimetype": "text/x-python",
   "name": "python",
   "nbconvert_exporter": "python",
   "pygments_lexer": "ipython2",
   "version": "2.7.16"
  }
 },
 "nbformat": 4,
 "nbformat_minor": 2
}
