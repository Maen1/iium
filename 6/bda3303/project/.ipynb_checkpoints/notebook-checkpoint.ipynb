{
 "cells": [
  {
   "cell_type": "code",
   "execution_count": 23,
   "metadata": {},
   "outputs": [],
   "source": [
    "import numpy as np\n",
    "import pandas as pd\n",
    "from sklearn.cluster import KMeans\n",
    "from sklearn.preprocessing import StandardScaler\n",
    "from sklearn.metrics import pairwise_distances_argmin\n",
    "\n",
    "\n",
    "import matplotlib.pyplot as plt\n",
    "%matplotlib inline"
   ]
  },
  {
   "cell_type": "code",
   "execution_count": 24,
   "metadata": {},
   "outputs": [
    {
     "name": "stdout",
     "output_type": "stream",
     "text": [
      "     GPA  Gender  breakfast  calories_chicken  calories_day  calories_scone  \\\n",
      "0  2.400       2          1               430           NaN           315.0   \n",
      "1  3.654       1          1               610           3.0           420.0   \n",
      "2  3.300       1          1               720           4.0           420.0   \n",
      "3  3.200       1          1               430           3.0           420.0   \n",
      "4  3.500       1          1               720           2.0           420.0   \n",
      "\n",
      "   coffee  comfort_food_reasons_coded  cook  comfort_food_reasons_coded.1  \\\n",
      "0       1                         9.0   2.0                             9   \n",
      "1       2                         1.0   3.0                             1   \n",
      "2       2                         1.0   1.0                             1   \n",
      "3       2                         2.0   2.0                             2   \n",
      "4       2                         1.0   1.0                             1   \n",
      "\n",
      "   ...  persian_food  self_perception_weight  soup  sports  thai_food  \\\n",
      "0  ...           5.0                     3.0   1.0     1.0          1   \n",
      "1  ...           4.0                     3.0   1.0     1.0          2   \n",
      "2  ...           5.0                     6.0   1.0     2.0          5   \n",
      "3  ...           5.0                     5.0   1.0     2.0          5   \n",
      "4  ...           2.0                     4.0   1.0     1.0          4   \n",
      "\n",
      "   tortilla_calories  turkey_calories  veggies_day  vitamins  waffle_calories  \n",
      "0             1165.0              345            5         1             1315  \n",
      "1              725.0              690            4         2              900  \n",
      "2             1165.0              500            5         1              900  \n",
      "3              725.0              690            3         1             1315  \n",
      "4              940.0              500            4         2              760  \n",
      "\n",
      "[5 rows x 48 columns]\n",
      "float64    21\n",
      "int64      27\n",
      "dtype: int64\n",
      "101\n",
      "0\n"
     ]
    }
   ],
   "source": [
    "# data cleaning\n",
    "df = pd.read_csv('./food_coded.csv', na_values=\"nan\")\n",
    "\n",
    "drop_cols = ['comfort_food', 'comfort_food_reasons',\n",
    "'diet_current', 'eating_changes', 'father_profession',\n",
    "'fav_cuisine', 'food_childhood','healthy_meal', 'ideal_diet',\n",
    "'meals_dinner_friend','mother_profession','type_sports','weight']\n",
    "\n",
    "df.drop(drop_cols, inplace=True, axis=1)\n",
    "print(df.head())\n",
    "print(df.get_dtype_counts())\n",
    "\n",
    "print(df.isnull().sum().sum())\n",
    "\n",
    "## fill na values\n",
    "for column in df:\n",
    "    median = df[column].median()\n",
    "    df[column].fillna(median, inplace=True)\n",
    "## end data cleaning\n",
    "print(df.isnull().sum().sum())"
   ]
  },
  {
   "cell_type": "code",
   "execution_count": 28,
   "metadata": {},
   "outputs": [],
   "source": [
    "\n",
    "X_std = StandardScaler().fit_transform(df)\n",
    "\n",
    "# Run local implementation of kmeans\n",
    "km = KMeans(n_clusters=4, max_iter=100)\n",
    "km.fit(X_std)\n",
    "centroids = km.cluster_centers_\n",
    "# kmeans = KMeans(n_clusters=4, random_state=0).fit(df)"
   ]
  },
  {
   "cell_type": "code",
   "execution_count": 37,
   "metadata": {},
   "outputs": [
    {
     "data": {
      "image/png": "[encoded data removed]",
      "text/plain": [
       "<Figure size 432x432 with 1 Axes>"
      ]
     },
     "metadata": {
      "needs_background": "light"
     },
     "output_type": "display_data"
    }
   ],
   "source": [
    "\n",
    "fig, ax = plt.subplots(figsize=(6, 6))\n",
    "plt.scatter(X_std[km.labels_ == 0, 0], X_std[km.labels_ == 0, 1],\n",
    "            c='green', label='cluster 1')\n",
    "plt.scatter(X_std[km.labels_ == 1, 0], X_std[km.labels_ == 1, 1],\n",
    "            c='blue', label='cluster 2')\n",
    "plt.scatter(centroids[:, 0], centroids[:, 1], marker='*', s=300,\n",
    "            c='r', label='centroid')\n",
    "\n",
    "plt.legend()\n",
    "plt.xlim([-2, 2])\n",
    "plt.ylim([-2, 2])\n",
    "plt.title('Visualization of clustered data', fontweight='bold')\n",
    "ax.set_aspect('equal');\n",
    "# centers = kmeans.cluster_centers_\n",
    "#plt.scatter(centers[:, 0], centers[:, 1], c='black', s=200, alpha=0.5);\n"
   ]
  },
  {
   "cell_type": "code",
   "execution_count": 21,
   "metadata": {},
   "outputs": [
    {
     "data": {
      "text/plain": [
       "<matplotlib.collections.PathCollection at 0x1213618d0>"
      ]
     },
     "execution_count": 21,
     "metadata": {},
     "output_type": "execute_result"
    },
    {
     "data": {
      "image/png": "[encoded data removed]",
      "text/plain": [
       "<Figure size 432x288 with 1 Axes>"
      ]
     },
     "metadata": {
      "needs_background": "light"
     },
     "output_type": "display_data"
    }
   ],
   "source": [
    "plt.scatter(df.iloc[:, 0], df.iloc[:, 1])"
   ]
  },
  {
   "cell_type": "code",
   "execution_count": null,
   "metadata": {},
   "outputs": [],
   "source": []
  }
 ],
 "metadata": {
  "kernelspec": {
   "display_name": "Python 3",
   "language": "python",
   "name": "python3"
  },
  "language_info": {
   "codemirror_mode": {
    "name": "ipython",
    "version": 2
   },
   "file_extension": ".py",
   "mimetype": "text/x-python",
   "name": "python",
   "nbconvert_exporter": "python",
   "pygments_lexer": "ipython2",
   "version": "2.7.16"
  }
 },
 "nbformat": 4,
 "nbformat_minor": 2
}
