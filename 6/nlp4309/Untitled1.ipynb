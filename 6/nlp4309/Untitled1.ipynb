{
 "cells": [
  {
   "cell_type": "code",
   "execution_count": 1,
   "metadata": {},
   "outputs": [
    {
     "ename": "SyntaxError",
     "evalue": "invalid syntax (draw_graph.py, line 63)",
     "output_type": "error",
     "traceback": [
      "\u001b[0;36m  File \u001b[0;32m\"/Users/Maen/.virtualenvs/tf/lib/python2.7/site-packages/nltk/nltk_contrib/fst/draw_graph.py\"\u001b[0;36m, line \u001b[0;32m63\u001b[0m\n\u001b[0;31m    coords = self._line_coords(*self.start(),*self.end())\u001b[0m\n\u001b[0m                                             ^\u001b[0m\n\u001b[0;31mSyntaxError\u001b[0m\u001b[0;31m:\u001b[0m invalid syntax\n"
     ]
    }
   ],
   "source": [
    "# example that uses the nltk_contrib FST class\n",
    "from nltk.nltk_contrib.fst.fst import *\n",
    "\n",
    "class myFST(FST):    \n",
    "    def recognize(self, iput, oput):\n",
    "\n",
    "        # insert your codes here\n",
    "        #self.inp = iput.split()\n",
    "        #self.outp = oput.split()\n",
    "        self.inp = list(iput)\n",
    "        self.outp = list(oput)\n",
    "        #f.transduce(\"abc\")        \n",
    "        \n",
    "        if list(oput) == f.transduce(list(iput)):\n",
    "            #print(\" \".join(f.transduce(iput.split())))        \n",
    "            return True\n",
    "        else:\n",
    "            return False\n",
    "\n",
    "# you can define an FST either this way:\n",
    "#f = myFST.parse(\"example\", \"\"\"\n",
    "#-> 1\n",
    "#1 -> 2 [a:1]\n",
    "#2 -> 2 [a:0]\n",
    "#2 -> 2 [b:1]\n",
    "#2 -> 3 [:1]\n",
    "#3 -> 4 [b:1]\n",
    "#4 -> 5 [b:]\n",
    "#5 ->\n",
    "#\"\"\")\n",
    "\n",
    "# or this more verbose way\n",
    "f = myFST('example')\n",
    "# first add the states in the FST\n",
    "for i in range(1,6):\n",
    "    f.add_state(str(i)) # add states '1' .. '5'\n",
    "\n",
    "# add one initial state\n",
    "f.initial_state = '1' # -> 1\n",
    "\n",
    "# add all transitions\n",
    "f.add_arc('1', '2', ('a'), ('1')) # 1 -> 2 [a:1]\n",
    "f.add_arc('2', '2', ('a'), ('0')) # 2 -> 2 [a:0]\n",
    "f.add_arc('2', '2', ('b'), ('1')) # 2 -> 2 [b:1]\n",
    "f.add_arc('2', '3', ('#'), ('1')) # 2 -> 3 [#:1]\n",
    "f.add_arc('3', '4', ('b'), ('1')) # 3 -> 4 [b:1]\n",
    "f.add_arc('4', '5', ('b'), ('#')) # 4 -> 5 [b:#]\n",
    "\n",
    "# add final/accepting state(s)\n",
    "#f.set_final('3') # 5 ->\n",
    "f.set_final('5') # 5 ->\n",
    "\n",
    "# use the nltk transduce function\n",
    "#print(\" \".join(f.transduce(\"a b a b b\".split())))\n",
    "\n",
    "# use the recognize function defined in myFST\n",
    "#if f.recognize(\"a b a b b\", \"1 1 - 1 1\"):\n",
    "inp = \"aab#bb\"\n",
    "outp = \"10111#\"\n",
    "print(inp)\n",
    "\n",
    "if f.recognize(inp, outp):\n",
    "    print(outp)\n",
    "    print(\"accept\")\n",
    "else:    \n",
    "    print(\"reject\")\n",
    "\n",
    "disp = FSTDisplay(f)"
   ]
  },
  {
   "cell_type": "code",
   "execution_count": null,
   "metadata": {},
   "outputs": [],
   "source": []
  }
 ],
 "metadata": {
  "kernelspec": {
   "display_name": "Python 3",
   "language": "python",
   "name": "python3"
  },
  "language_info": {
   "codemirror_mode": {
    "name": "ipython",
    "version": 2
   },
   "file_extension": ".py",
   "mimetype": "text/x-python",
   "name": "python",
   "nbconvert_exporter": "python",
   "pygments_lexer": "ipython2",
   "version": "2.7.15"
  }
 },
 "nbformat": 4,
 "nbformat_minor": 2
}
